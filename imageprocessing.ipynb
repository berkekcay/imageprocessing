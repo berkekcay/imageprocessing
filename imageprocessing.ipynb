{
  "nbformat": 4,
  "nbformat_minor": 0,
  "metadata": {
    "colab": {
      "provenance": []
    },
    "kernelspec": {
      "name": "python3",
      "display_name": "Python 3"
    },
    "language_info": {
      "name": "python"
    }
  },
  "cells": [
    {
      "cell_type": "code",
      "execution_count": 1,
      "metadata": {
        "colab": {
          "base_uri": "https://localhost:8080/",
          "height": 383
        },
        "id": "_J9A5OX96J-s",
        "outputId": "f6030f0a-ac4a-4f0e-9519-a63ef5b38243"
      },
      "outputs": [
        {
          "output_type": "error",
          "ename": "ModuleNotFoundError",
          "evalue": "No module named 'streamlit'",
          "traceback": [
            "\u001b[0;31m---------------------------------------------------------------------------\u001b[0m",
            "\u001b[0;31mModuleNotFoundError\u001b[0m                       Traceback (most recent call last)",
            "\u001b[0;32m<ipython-input-1-b7db87edb535>\u001b[0m in \u001b[0;36m<cell line: 0>\u001b[0;34m()\u001b[0m\n\u001b[0;32m----> 1\u001b[0;31m \u001b[0;32mimport\u001b[0m \u001b[0mstreamlit\u001b[0m \u001b[0;32mas\u001b[0m \u001b[0mst\u001b[0m\u001b[0;34m\u001b[0m\u001b[0;34m\u001b[0m\u001b[0m\n\u001b[0m\u001b[1;32m      2\u001b[0m \u001b[0;34m\u001b[0m\u001b[0m\n\u001b[1;32m      3\u001b[0m \u001b[0;32mdef\u001b[0m \u001b[0mmain\u001b[0m\u001b[0;34m(\u001b[0m\u001b[0;34m)\u001b[0m\u001b[0;34m:\u001b[0m\u001b[0;34m\u001b[0m\u001b[0;34m\u001b[0m\u001b[0m\n\u001b[1;32m      4\u001b[0m     \u001b[0mst\u001b[0m\u001b[0;34m.\u001b[0m\u001b[0mset_page_config\u001b[0m\u001b[0;34m(\u001b[0m\u001b[0mpage_title\u001b[0m\u001b[0;34m=\u001b[0m\u001b[0;34m\"AI Destekli Sosyal Medya Optimizasyonu\"\u001b[0m\u001b[0;34m,\u001b[0m \u001b[0mlayout\u001b[0m\u001b[0;34m=\u001b[0m\u001b[0;34m\"wide\"\u001b[0m\u001b[0;34m)\u001b[0m\u001b[0;34m\u001b[0m\u001b[0;34m\u001b[0m\u001b[0m\n\u001b[1;32m      5\u001b[0m     st.markdown(\"\"\"\n",
            "\u001b[0;31mModuleNotFoundError\u001b[0m: No module named 'streamlit'",
            "",
            "\u001b[0;31m---------------------------------------------------------------------------\u001b[0;32m\nNOTE: If your import is failing due to a missing package, you can\nmanually install dependencies using either !pip or !apt.\n\nTo view examples of installing some common dependencies, click the\n\"Open Examples\" button below.\n\u001b[0;31m---------------------------------------------------------------------------\u001b[0m\n"
          ],
          "errorDetails": {
            "actions": [
              {
                "action": "open_url",
                "actionText": "Open Examples",
                "url": "/notebooks/snippets/importing_libraries.ipynb"
              }
            ]
          }
        }
      ],
      "source": [
        "import streamlit as st\n",
        "\n",
        "def main():\n",
        "    st.set_page_config(page_title=\"AI Destekli Sosyal Medya Optimizasyonu\", layout=\"wide\")\n",
        "    st.markdown(\"\"\"\n",
        "    <style>\n",
        "    .big-font { font-size:24px !important; font-weight: bold; }\n",
        "    .stButton>button { width: 100%; }\n",
        "    </style>\n",
        "    \"\"\", unsafe_allow_html=True)\n",
        "\n",
        "    st.title(\"📸 AI Destekli Sosyal Medya İçerik Optimizasyonu\")\n",
        "    st.subheader(\"AI destekli analiz ile sosyal medya görsellerinizi optimize edin ve daha fazla etkileşim alın!\")\n",
        "\n",
        "    col1, col2 = st.columns([1, 2])\n",
        "    with col1:\n",
        "        uploaded_image = st.file_uploader(\"📤 Bir görsel yükleyin\", type=[\"jpg\", \"png\", \"jpeg\"])\n",
        "        st.button(\"🔍 Analiz Başlat\")\n",
        "\n",
        "    with col2:\n",
        "        st.image(\"placeholder.jpg\", caption=\"Yüklenen Görsel\", use_column_width=True)\n",
        "        st.success(\"✅ Görsel başarıyla yüklendi!\")\n",
        "\n",
        "    st.markdown(\"---\")\n",
        "    st.subheader(\"📊 Analiz Sonuçları\")\n",
        "\n",
        "    col3, col4, col5 = st.columns(3)\n",
        "    with col3:\n",
        "        st.metric(label=\"🌟 Parlaklık\", value=\"-\", delta=\"-\")\n",
        "    with col4:\n",
        "        st.metric(label=\"🎭 Kontrast\", value=\"-\", delta=\"-\")\n",
        "    with col5:\n",
        "        st.metric(label=\"🔍 Netlik\", value=\"-\", delta=\"-\")\n",
        "\n",
        "    st.markdown(\"---\")\n",
        "    st.subheader(\"💡 Optimizasyon Önerileri\")\n",
        "    st.write(\"- AI tarafından önerilen optimizasyonlar burada görünecek.\")\n",
        "\n",
        "    st.markdown(\"---\")\n",
        "    st.info(\"📌 Daha iyi etkileşim almak için AI önerilerini dikkate alın ve içeriğinizi optimize edin!\")\n",
        "\n",
        "if __name__ == \"__main__\":\n",
        "    main()"
      ]
    }
  ]
}